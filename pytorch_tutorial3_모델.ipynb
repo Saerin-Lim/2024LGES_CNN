{
 "cells": [
  {
   "cell_type": "code",
   "execution_count": 1,
   "metadata": {},
   "outputs": [
    {
     "name": "stderr",
     "output_type": "stream",
     "text": [
      "c:\\Users\\korea\\anaconda3\\envs\\py39\\lib\\site-packages\\tqdm\\auto.py:22: TqdmWarning: IProgress not found. Please update jupyter and ipywidgets. See https://ipywidgets.readthedocs.io/en/stable/user_install.html\n",
      "  from .autonotebook import tqdm as notebook_tqdm\n"
     ]
    }
   ],
   "source": [
    "import torch\n",
    "import warnings\n",
    "import torch.nn as nn\n",
    "\n",
    "warnings.filterwarnings(action='ignore')"
   ]
  },
  {
   "cell_type": "code",
   "execution_count": 2,
   "metadata": {},
   "outputs": [],
   "source": [
    "!pip install torchsummary\n",
    "from torchsummary import summary"
   ]
  },
  {
   "attachments": {},
   "cell_type": "markdown",
   "metadata": {},
   "source": [
    "#### Layer종류 & Block화"
   ]
  },
  {
   "cell_type": "code",
   "execution_count": 3,
   "metadata": {},
   "outputs": [
    {
     "name": "stdout",
     "output_type": "stream",
     "text": [
      "torch.Size([32, 1])\n"
     ]
    }
   ],
   "source": [
    "# linear layer\n",
    "x = torch.randn(32,10) # Batch,Features\n",
    "linear_layer = nn.Linear(in_features=10, out_features=1)\n",
    "print(linear_layer(x).shape)"
   ]
  },
  {
   "cell_type": "code",
   "execution_count": 4,
   "metadata": {},
   "outputs": [
    {
     "name": "stdout",
     "output_type": "stream",
     "text": [
      "torch.Size([32, 16, 32, 32])\n"
     ]
    }
   ],
   "source": [
    "# convolution layer\n",
    "imgs = torch.randn(32,3,64,64) #B, C, H, W -> B, Featuremap, H//2,w//2\n",
    "conv_layer = nn.Conv2d(in_channels=3, out_channels=16, kernel_size=(2,2), stride=(2,2))\n",
    "print(conv_layer(imgs).shape)"
   ]
  },
  {
   "cell_type": "code",
   "execution_count": 5,
   "metadata": {},
   "outputs": [
    {
     "name": "stdout",
     "output_type": "stream",
     "text": [
      "torch.Size([1, 2]) tensor([[-1.,  1.]]) tensor([[0., 1.]])\n"
     ]
    }
   ],
   "source": [
    "# activation functions\n",
    "x = torch.FloatTensor([[-1,1]])\n",
    "relu = nn.ReLU(inplace=True)\n",
    "sigmoid = nn.Sigmoid()\n",
    "tanh = nn.Tanh()\n",
    "print(x.shape, x, relu(x))"
   ]
  },
  {
   "cell_type": "code",
   "execution_count": 6,
   "metadata": {},
   "outputs": [
    {
     "name": "stdout",
     "output_type": "stream",
     "text": [
      "tensor([[-1.,  1.,  2.,  6.]]) tensor([[1., 6.]]) tensor([[0., 4.]])\n"
     ]
    }
   ],
   "source": [
    "# 1D-pooling layer\n",
    "x = torch.FloatTensor([[-1,1,2,6]])\n",
    "maxpool = nn.MaxPool1d(kernel_size=2,stride=2)\n",
    "avgpool = nn.AvgPool1d(kernel_size=2,stride=2)\n",
    "print(x, maxpool(x), avgpool(x))"
   ]
  },
  {
   "cell_type": "code",
   "execution_count": 7,
   "metadata": {},
   "outputs": [
    {
     "name": "stdout",
     "output_type": "stream",
     "text": [
      "torch.Size([32, 3, 32, 32])\n"
     ]
    }
   ],
   "source": [
    "# 2D-pooling layer\n",
    "imgs = torch.randn(32,3,64,64)\n",
    "maxpool = nn.MaxPool2d(kernel_size=(2,2),stride=(2,2))\n",
    "avgpool = nn.AvgPool2d(kernel_size=(2,2),stride=(2,2))\n",
    "print(maxpool(imgs).shape, )"
   ]
  },
  {
   "cell_type": "code",
   "execution_count": 8,
   "metadata": {},
   "outputs": [
    {
     "name": "stdout",
     "output_type": "stream",
     "text": [
      "tensor([[1., 2., 3.],\n",
      "        [2., 2., 2.],\n",
      "        [3., 2., 1.]]) \n",
      " tensor([[-1.2247,  0.0000,  1.2247],\n",
      "        [ 0.0000,  0.0000,  0.0000],\n",
      "        [ 1.2247,  0.0000, -1.2247]], grad_fn=<NativeBatchNormBackward0>)\n"
     ]
    }
   ],
   "source": [
    "# batchnorm\n",
    "x = torch.FloatTensor([[1,2,3],\n",
    "                       [2,2,2],\n",
    "                       [3,2,1]])\n",
    "batchnorm = nn.BatchNorm1d(num_features=3)\n",
    "print(x, '\\n', batchnorm(x))"
   ]
  },
  {
   "cell_type": "code",
   "execution_count": 9,
   "metadata": {},
   "outputs": [
    {
     "name": "stdout",
     "output_type": "stream",
     "text": [
      "tensor([[1., 2., 3.],\n",
      "        [2., 2., 2.],\n",
      "        [3., 2., 1.]]) \n",
      " tensor([[2., 4., 6.],\n",
      "        [0., 0., 0.],\n",
      "        [0., 0., 0.]])\n"
     ]
    }
   ],
   "source": [
    "# dropout\n",
    "x = torch.FloatTensor([[1,2,3],\n",
    "                       [2,2,2],\n",
    "                       [3,2,1]])\n",
    "dropout = nn.Dropout(p=0.5)\n",
    "dropout.train()\n",
    "print(x, '\\n', dropout(x))"
   ]
  },
  {
   "cell_type": "code",
   "execution_count": 10,
   "metadata": {},
   "outputs": [
    {
     "name": "stdout",
     "output_type": "stream",
     "text": [
      "==========================================================================================\n",
      "Layer (type:depth-idx)                   Output Shape              Param #\n",
      "==========================================================================================\n",
      "├─Conv2d: 1-1                            [-1, 16, 64, 64]          448\n",
      "├─BatchNorm2d: 1-2                       [-1, 16, 64, 64]          32\n",
      "├─ReLU: 1-3                              [-1, 16, 64, 64]          --\n",
      "├─MaxPool2d: 1-4                         [-1, 16, 32, 32]          --\n",
      "==========================================================================================\n",
      "Total params: 480\n",
      "Trainable params: 480\n",
      "Non-trainable params: 0\n",
      "Total mult-adds (M): 1.77\n",
      "==========================================================================================\n",
      "Input size (MB): 0.05\n",
      "Forward/backward pass size (MB): 1.00\n",
      "Params size (MB): 0.00\n",
      "Estimated Total Size (MB): 1.05\n",
      "==========================================================================================\n",
      "torch.Size([64, 16, 32, 32])\n"
     ]
    }
   ],
   "source": [
    "x = torch.randn(64,3,64,64)\n",
    "\n",
    "conv_block = nn.Sequential(nn.Conv2d(in_channels=3,out_channels=16,kernel_size=(3,3),stride=(1,1),padding=(1,1)),\n",
    "                           nn.BatchNorm2d(num_features=16),\n",
    "                           nn.ReLU(inplace=True),\n",
    "                           # nn.Dropout(p=0.1),\n",
    "                           nn.MaxPool2d(kernel_size=(3,3),stride=(2,2), padding=(1,1))\n",
    ")\n",
    "\n",
    "summary(model=conv_block, input_data=(3,64,64), device='cpu')\n",
    "print(conv_block(x).shape)"
   ]
  },
  {
   "attachments": {},
   "cell_type": "markdown",
   "metadata": {},
   "source": [
    "#### Custom model 구축"
   ]
  },
  {
   "cell_type": "code",
   "execution_count": 11,
   "metadata": {},
   "outputs": [
    {
     "data": {
      "text/plain": [
       "'\\nclass CustomModel(torch.nn.Module):\\n  def __init__(self):\\n  원하는 nueral networks 모델 구조를 layer 별로 혹은 block화 하여 정의\\n\\n  def forward(self, x):\\n  __init__에서 정의한 nueral networks에 모델을 입력하여 예측값을 얻는 forward 과정\\n'"
      ]
     },
     "execution_count": 11,
     "metadata": {},
     "output_type": "execute_result"
    }
   ],
   "source": [
    "\"\"\"\n",
    "class CustomModel(torch.nn.Module):\n",
    "  def __init__(self):\n",
    "  원하는 nueral networks 모델 구조를 layer 별로 혹은 block화 하여 정의\n",
    "\n",
    "  def forward(self, x):\n",
    "  __init__에서 정의한 nueral networks에 모델을 입력하여 예측값을 얻는 forward 과정\n",
    "\"\"\""
   ]
  },
  {
   "cell_type": "code",
   "execution_count": 2,
   "metadata": {},
   "outputs": [],
   "source": [
    "class MyLeNet(nn.Module):\n",
    "    def __init__(self, num_classes=10):\n",
    "        super().__init__()\n",
    "\n",
    "        self.block1 = nn.Sequential(nn.Conv2d(in_channels=3,out_channels=6,kernel_size=(5,5),stride=(1,1),padding=(0,0)), # C1 layer\n",
    "                           # nn.BatchNorm2d(num_features=6),\n",
    "                           nn.Tanh(),\n",
    "                           # nn.Dropout(p=0.1),\n",
    "                           nn.AvgPool2d(kernel_size=(2,2),stride=(2,2), padding=(0,0))) # S2 layer\n",
    "        \n",
    "        self.block2 = nn.Sequential(nn.Conv2d(in_channels=6,out_channels=16,kernel_size=(5,5),stride=(1,1),padding=(0,0)), # C3 layer\n",
    "                           # nn.BatchNorm2d(num_features=16),\n",
    "                           nn.Tanh(),\n",
    "                           # nn.Dropout(p=0.1),\n",
    "                           nn.AvgPool2d(kernel_size=(2,2),stride=(2,2), padding=(0,0))) # S4 layer\n",
    "        \n",
    "        self.block3 = nn.Sequential(nn.Conv2d(in_channels=16,out_channels=120,kernel_size=(5,5),stride=(1,1),padding=(0,0)), # C5 layer\n",
    "                           nn.Tanh())\n",
    "        \n",
    "        self.fc1 = nn.Sequential(nn.Linear(120,84), nn.Tanh())\n",
    "        self.fc2 = nn.Linear(84,num_classes)\n",
    "        \n",
    "        self.flatten = nn.Flatten(start_dim=1, end_dim=-1)\n",
    "        self.init_weights()\n",
    "        \n",
    "    def forward(self, x):\n",
    "        # x : B, 3, 32, 32\n",
    "        out = self.block1(x) # B, 6, 14, 14\n",
    "        out = self.block2(out) # B, 16, 5, 5\n",
    "        out = self.block3(out) # B, 120, 1, 1\n",
    "        out = self.flatten(out) # B, 120*1*1\n",
    "        out = self.fc1(out) # B, 84\n",
    "        out = self.fc2(out) # B, num_classes\n",
    "        return out\n",
    "    \n",
    "    # 모델의 파라미터를 초기화\n",
    "    def init_weights(self):\n",
    "        for m in self.modules():\n",
    "            if isinstance(m, nn.Conv2d):\n",
    "                nn.init.kaiming_normal_(m.weight,\n",
    "                                        mode='fan_out',\n",
    "                                        nonlinearity='leaky_relu')\n",
    "            elif isinstance(m, nn.BatchNorm2d):\n",
    "                nn.init.constant_(m.weight, 1.0)\n",
    "                nn.init.constant_(m.bias, 0.0)\n",
    "            elif isinstance(m, nn.Linear):\n",
    "                nn.init.xavier_normal_(m.weight)\n",
    "                nn.init.constant_(m.bias, 0.0)"
   ]
  },
  {
   "cell_type": "code",
   "execution_count": 3,
   "metadata": {},
   "outputs": [
    {
     "ename": "NameError",
     "evalue": "name 'summary' is not defined",
     "output_type": "error",
     "traceback": [
      "\u001b[1;31m---------------------------------------------------------------------------\u001b[0m",
      "\u001b[1;31mNameError\u001b[0m                                 Traceback (most recent call last)",
      "\u001b[1;32mc:\\Users\\korea\\OneDrive - 고려대학교\\프로젝트\\[2023]LG엔솔-기업교육\\실습 자료\\0616_CNN1\\pytorch_tutorial3_모델.ipynb 셀 15\u001b[0m in \u001b[0;36m<cell line: 1>\u001b[1;34m()\u001b[0m\n\u001b[1;32m----> <a href='vscode-notebook-cell:/c%3A/Users/korea/OneDrive%20-%20%EA%B3%A0%EB%A0%A4%EB%8C%80%ED%95%99%EA%B5%90/%ED%94%84%EB%A1%9C%EC%A0%9D%ED%8A%B8/%5B2023%5DLG%EC%97%94%EC%86%94-%EA%B8%B0%EC%97%85%EA%B5%90%EC%9C%A1/%EC%8B%A4%EC%8A%B5%20%EC%9E%90%EB%A3%8C/0616_CNN1/pytorch_tutorial3_%EB%AA%A8%EB%8D%B8.ipynb#X20sZmlsZQ%3D%3D?line=0'>1</a>\u001b[0m summary(MyLeNet(num_classes\u001b[39m=\u001b[39m\u001b[39m10\u001b[39m), input_data\u001b[39m=\u001b[39m(\u001b[39m3\u001b[39m,\u001b[39m32\u001b[39m,\u001b[39m32\u001b[39m), device\u001b[39m=\u001b[39m\u001b[39m'\u001b[39m\u001b[39mcpu\u001b[39m\u001b[39m'\u001b[39m)\n",
      "\u001b[1;31mNameError\u001b[0m: name 'summary' is not defined"
     ]
    }
   ],
   "source": [
    "summary(MyLeNet(num_classes=10), input_data=(3,32,32), device='cpu')"
   ]
  },
  {
   "cell_type": "code",
   "execution_count": 4,
   "metadata": {},
   "outputs": [
    {
     "name": "stdout",
     "output_type": "stream",
     "text": [
      "torch.Size([64, 3, 32, 32]) torch.Size([64, 2])\n"
     ]
    }
   ],
   "source": [
    "x = torch.randn(size=(64,3,32,32))\n",
    "lenet = MyLeNet(num_classes=2)\n",
    "\n",
    "print(x.shape, lenet(x).shape)"
   ]
  },
  {
   "attachments": {},
   "cell_type": "markdown",
   "metadata": {},
   "source": [
    "#### Save & Load Model Parameters"
   ]
  },
  {
   "cell_type": "code",
   "execution_count": 5,
   "metadata": {},
   "outputs": [
    {
     "ename": "FileNotFoundError",
     "evalue": "[Errno 2] No such file or directory: 'content/LGES2023_CNN/model.pt'",
     "output_type": "error",
     "traceback": [
      "\u001b[1;31m---------------------------------------------------------------------------\u001b[0m",
      "\u001b[1;31mFileNotFoundError\u001b[0m                         Traceback (most recent call last)",
      "\u001b[1;32mc:\\Users\\korea\\OneDrive - 고려대학교\\프로젝트\\[2023]LG엔솔-기업교육\\실습 자료\\0616_CNN1\\pytorch_tutorial3_모델.ipynb 셀 18\u001b[0m in \u001b[0;36m<cell line: 8>\u001b[1;34m()\u001b[0m\n\u001b[0;32m      <a href='vscode-notebook-cell:/c%3A/Users/korea/OneDrive%20-%20%EA%B3%A0%EB%A0%A4%EB%8C%80%ED%95%99%EA%B5%90/%ED%94%84%EB%A1%9C%EC%A0%9D%ED%8A%B8/%5B2023%5DLG%EC%97%94%EC%86%94-%EA%B8%B0%EC%97%85%EA%B5%90%EC%9C%A1/%EC%8B%A4%EC%8A%B5%20%EC%9E%90%EB%A3%8C/0616_CNN1/pytorch_tutorial3_%EB%AA%A8%EB%8D%B8.ipynb#X23sZmlsZQ%3D%3D?line=1'>2</a>\u001b[0m save_path \u001b[39m=\u001b[39m \u001b[39m'\u001b[39m\u001b[39mcontent/LGES2023_CNN/model.pt\u001b[39m\u001b[39m'\u001b[39m\n\u001b[0;32m      <a href='vscode-notebook-cell:/c%3A/Users/korea/OneDrive%20-%20%EA%B3%A0%EB%A0%A4%EB%8C%80%ED%95%99%EA%B5%90/%ED%94%84%EB%A1%9C%EC%A0%9D%ED%8A%B8/%5B2023%5DLG%EC%97%94%EC%86%94-%EA%B8%B0%EC%97%85%EA%B5%90%EC%9C%A1/%EC%8B%A4%EC%8A%B5%20%EC%9E%90%EB%A3%8C/0616_CNN1/pytorch_tutorial3_%EB%AA%A8%EB%8D%B8.ipynb#X23sZmlsZQ%3D%3D?line=2'>3</a>\u001b[0m save_dict \u001b[39m=\u001b[39m {\u001b[39m'\u001b[39m\u001b[39mmodel_A\u001b[39m\u001b[39m'\u001b[39m:lenet\u001b[39m.\u001b[39mstate_dict(),\n\u001b[0;32m      <a href='vscode-notebook-cell:/c%3A/Users/korea/OneDrive%20-%20%EA%B3%A0%EB%A0%A4%EB%8C%80%ED%95%99%EA%B5%90/%ED%94%84%EB%A1%9C%EC%A0%9D%ED%8A%B8/%5B2023%5DLG%EC%97%94%EC%86%94-%EA%B8%B0%EC%97%85%EA%B5%90%EC%9C%A1/%EC%8B%A4%EC%8A%B5%20%EC%9E%90%EB%A3%8C/0616_CNN1/pytorch_tutorial3_%EB%AA%A8%EB%8D%B8.ipynb#X23sZmlsZQ%3D%3D?line=3'>4</a>\u001b[0m              \u001b[39m#'model_B':lenet.state_dict(),\u001b[39;00m\n\u001b[0;32m      <a href='vscode-notebook-cell:/c%3A/Users/korea/OneDrive%20-%20%EA%B3%A0%EB%A0%A4%EB%8C%80%ED%95%99%EA%B5%90/%ED%94%84%EB%A1%9C%EC%A0%9D%ED%8A%B8/%5B2023%5DLG%EC%97%94%EC%86%94-%EA%B8%B0%EC%97%85%EA%B5%90%EC%9C%A1/%EC%8B%A4%EC%8A%B5%20%EC%9E%90%EB%A3%8C/0616_CNN1/pytorch_tutorial3_%EB%AA%A8%EB%8D%B8.ipynb#X23sZmlsZQ%3D%3D?line=4'>5</a>\u001b[0m              \u001b[39m#'optimizer':optimizer.load_state_dict(),\u001b[39;00m\n\u001b[0;32m      <a href='vscode-notebook-cell:/c%3A/Users/korea/OneDrive%20-%20%EA%B3%A0%EB%A0%A4%EB%8C%80%ED%95%99%EA%B5%90/%ED%94%84%EB%A1%9C%EC%A0%9D%ED%8A%B8/%5B2023%5DLG%EC%97%94%EC%86%94-%EA%B8%B0%EC%97%85%EA%B5%90%EC%9C%A1/%EC%8B%A4%EC%8A%B5%20%EC%9E%90%EB%A3%8C/0616_CNN1/pytorch_tutorial3_%EB%AA%A8%EB%8D%B8.ipynb#X23sZmlsZQ%3D%3D?line=5'>6</a>\u001b[0m              }\n\u001b[1;32m----> <a href='vscode-notebook-cell:/c%3A/Users/korea/OneDrive%20-%20%EA%B3%A0%EB%A0%A4%EB%8C%80%ED%95%99%EA%B5%90/%ED%94%84%EB%A1%9C%EC%A0%9D%ED%8A%B8/%5B2023%5DLG%EC%97%94%EC%86%94-%EA%B8%B0%EC%97%85%EA%B5%90%EC%9C%A1/%EC%8B%A4%EC%8A%B5%20%EC%9E%90%EB%A3%8C/0616_CNN1/pytorch_tutorial3_%EB%AA%A8%EB%8D%B8.ipynb#X23sZmlsZQ%3D%3D?line=7'>8</a>\u001b[0m torch\u001b[39m.\u001b[39;49msave(save_dict, save_path)\n",
      "File \u001b[1;32mc:\\Users\\korea\\anaconda3\\envs\\py39\\lib\\site-packages\\torch\\serialization.py:376\u001b[0m, in \u001b[0;36msave\u001b[1;34m(obj, f, pickle_module, pickle_protocol, _use_new_zipfile_serialization)\u001b[0m\n\u001b[0;32m    340\u001b[0m \u001b[39m\"\"\"save(obj, f, pickle_module=pickle, pickle_protocol=DEFAULT_PROTOCOL, _use_new_zipfile_serialization=True)\u001b[39;00m\n\u001b[0;32m    341\u001b[0m \n\u001b[0;32m    342\u001b[0m \u001b[39mSaves an object to a disk file.\u001b[39;00m\n\u001b[1;32m   (...)\u001b[0m\n\u001b[0;32m    372\u001b[0m \u001b[39m    >>> torch.save(x, buffer)\u001b[39;00m\n\u001b[0;32m    373\u001b[0m \u001b[39m\"\"\"\u001b[39;00m\n\u001b[0;32m    374\u001b[0m _check_dill_version(pickle_module)\n\u001b[1;32m--> 376\u001b[0m \u001b[39mwith\u001b[39;00m _open_file_like(f, \u001b[39m'\u001b[39;49m\u001b[39mwb\u001b[39;49m\u001b[39m'\u001b[39;49m) \u001b[39mas\u001b[39;00m opened_file:\n\u001b[0;32m    377\u001b[0m     \u001b[39mif\u001b[39;00m _use_new_zipfile_serialization:\n\u001b[0;32m    378\u001b[0m         \u001b[39mwith\u001b[39;00m _open_zipfile_writer(opened_file) \u001b[39mas\u001b[39;00m opened_zipfile:\n",
      "File \u001b[1;32mc:\\Users\\korea\\anaconda3\\envs\\py39\\lib\\site-packages\\torch\\serialization.py:230\u001b[0m, in \u001b[0;36m_open_file_like\u001b[1;34m(name_or_buffer, mode)\u001b[0m\n\u001b[0;32m    228\u001b[0m \u001b[39mdef\u001b[39;00m \u001b[39m_open_file_like\u001b[39m(name_or_buffer, mode):\n\u001b[0;32m    229\u001b[0m     \u001b[39mif\u001b[39;00m _is_path(name_or_buffer):\n\u001b[1;32m--> 230\u001b[0m         \u001b[39mreturn\u001b[39;00m _open_file(name_or_buffer, mode)\n\u001b[0;32m    231\u001b[0m     \u001b[39melse\u001b[39;00m:\n\u001b[0;32m    232\u001b[0m         \u001b[39mif\u001b[39;00m \u001b[39m'\u001b[39m\u001b[39mw\u001b[39m\u001b[39m'\u001b[39m \u001b[39min\u001b[39;00m mode:\n",
      "File \u001b[1;32mc:\\Users\\korea\\anaconda3\\envs\\py39\\lib\\site-packages\\torch\\serialization.py:211\u001b[0m, in \u001b[0;36m_open_file.__init__\u001b[1;34m(self, name, mode)\u001b[0m\n\u001b[0;32m    210\u001b[0m \u001b[39mdef\u001b[39;00m \u001b[39m__init__\u001b[39m(\u001b[39mself\u001b[39m, name, mode):\n\u001b[1;32m--> 211\u001b[0m     \u001b[39msuper\u001b[39m(_open_file, \u001b[39mself\u001b[39m)\u001b[39m.\u001b[39m\u001b[39m__init__\u001b[39m(\u001b[39mopen\u001b[39;49m(name, mode))\n",
      "\u001b[1;31mFileNotFoundError\u001b[0m: [Errno 2] No such file or directory: 'content/LGES2023_CNN/model.pt'"
     ]
    }
   ],
   "source": [
    "# save model parameters\n",
    "save_path = 'content/LGES2023_CNN/model.pt'\n",
    "save_dict = {'model_A':lenet.state_dict(),\n",
    "             #'model_B':lenet.state_dict(),\n",
    "             #'optimizer':optimizer.load_state_dict(),\n",
    "             }\n",
    "\n",
    "torch.save(save_dict, save_path)"
   ]
  },
  {
   "cell_type": "code",
   "execution_count": 16,
   "metadata": {},
   "outputs": [
    {
     "data": {
      "text/plain": [
       "<All keys matched successfully>"
      ]
     },
     "execution_count": 16,
     "metadata": {},
     "output_type": "execute_result"
    }
   ],
   "source": [
    "# load model parameters\n",
    "model = MyLeNet()\n",
    "load_dict = torch.load(save_path, map_location='cpu')\n",
    "parameters = load_dict['model_A']\n",
    "model.load_state_dict(parameters,strict=False)"
   ]
  },
  {
   "cell_type": "code",
   "execution_count": null,
   "metadata": {},
   "outputs": [],
   "source": []
  }
 ],
 "metadata": {
  "kernelspec": {
   "display_name": "py39",
   "language": "python",
   "name": "python3"
  },
  "language_info": {
   "codemirror_mode": {
    "name": "ipython",
    "version": 3
   },
   "file_extension": ".py",
   "mimetype": "text/x-python",
   "name": "python",
   "nbconvert_exporter": "python",
   "pygments_lexer": "ipython3",
   "version": "3.9.12"
  }
 },
 "nbformat": 4,
 "nbformat_minor": 2
}
